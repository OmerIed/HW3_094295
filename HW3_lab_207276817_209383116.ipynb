{
  "nbformat": 4,
  "nbformat_minor": 0,
  "metadata": {
    "colab": {
      "provenance": [],
      "gpuType": "T4"
    },
    "kernelspec": {
      "name": "python3",
      "display_name": "Python 3"
    },
    "language_info": {
      "name": "python"
    },
    "accelerator": "GPU"
  },
  "cells": [
    {
      "cell_type": "code",
      "source": [
        "! pip install pyg_lib torch_scatter torch_sparse torch_cluster torch_spline_conv -f https://data.pyg.org/whl/torch-2.0.0+cu118.html"
      ],
      "metadata": {
        "colab": {
          "base_uri": "https://localhost:8080/"
        },
        "id": "bpYkUk1BmkUf",
        "outputId": "9a8e8f8b-d671-4048-b6d6-d79b748c0da0"
      },
      "execution_count": 1,
      "outputs": [
        {
          "output_type": "stream",
          "name": "stdout",
          "text": [
            "Looking in links: https://data.pyg.org/whl/torch-2.0.0+cu118.html\n",
            "Collecting pyg_lib\n",
            "  Downloading https://data.pyg.org/whl/torch-2.0.0%2Bcu118/pyg_lib-0.2.0%2Bpt20cu118-cp310-cp310-linux_x86_64.whl (1.8 MB)\n",
            "\u001b[2K     \u001b[90m━━━━━━━━━━━━━━━━━━━━━━━━━━━━━━━━━━━━━━━━\u001b[0m \u001b[32m1.8/1.8 MB\u001b[0m \u001b[31m74.1 MB/s\u001b[0m eta \u001b[36m0:00:00\u001b[0m\n",
            "\u001b[?25hCollecting torch_scatter\n",
            "  Downloading https://data.pyg.org/whl/torch-2.0.0%2Bcu118/torch_scatter-2.1.1%2Bpt20cu118-cp310-cp310-linux_x86_64.whl (10.2 MB)\n",
            "\u001b[2K     \u001b[90m━━━━━━━━━━━━━━━━━━━━━━━━━━━━━━━━━━━━━━━\u001b[0m \u001b[32m10.2/10.2 MB\u001b[0m \u001b[31m108.6 MB/s\u001b[0m eta \u001b[36m0:00:00\u001b[0m\n",
            "\u001b[?25hCollecting torch_sparse\n",
            "  Downloading https://data.pyg.org/whl/torch-2.0.0%2Bcu118/torch_sparse-0.6.17%2Bpt20cu118-cp310-cp310-linux_x86_64.whl (4.8 MB)\n",
            "\u001b[2K     \u001b[90m━━━━━━━━━━━━━━━━━━━━━━━━━━━━━━━━━━━━━━━━\u001b[0m \u001b[32m4.8/4.8 MB\u001b[0m \u001b[31m95.1 MB/s\u001b[0m eta \u001b[36m0:00:00\u001b[0m\n",
            "\u001b[?25hCollecting torch_cluster\n",
            "  Downloading https://data.pyg.org/whl/torch-2.0.0%2Bcu118/torch_cluster-1.6.1%2Bpt20cu118-cp310-cp310-linux_x86_64.whl (3.3 MB)\n",
            "\u001b[2K     \u001b[90m━━━━━━━━━━━━━━━━━━━━━━━━━━━━━━━━━━━━━━━━\u001b[0m \u001b[32m3.3/3.3 MB\u001b[0m \u001b[31m89.5 MB/s\u001b[0m eta \u001b[36m0:00:00\u001b[0m\n",
            "\u001b[?25hCollecting torch_spline_conv\n",
            "  Downloading https://data.pyg.org/whl/torch-2.0.0%2Bcu118/torch_spline_conv-1.2.2%2Bpt20cu118-cp310-cp310-linux_x86_64.whl (884 kB)\n",
            "\u001b[2K     \u001b[90m━━━━━━━━━━━━━━━━━━━━━━━━━━━━━━━━━━━━━━\u001b[0m \u001b[32m884.9/884.9 kB\u001b[0m \u001b[31m58.2 MB/s\u001b[0m eta \u001b[36m0:00:00\u001b[0m\n",
            "\u001b[?25hRequirement already satisfied: scipy in /usr/local/lib/python3.10/dist-packages (from torch_sparse) (1.10.1)\n",
            "Requirement already satisfied: numpy<1.27.0,>=1.19.5 in /usr/local/lib/python3.10/dist-packages (from scipy->torch_sparse) (1.22.4)\n",
            "Installing collected packages: torch_spline_conv, torch_scatter, pyg_lib, torch_sparse, torch_cluster\n",
            "Successfully installed pyg_lib-0.2.0+pt20cu118 torch_cluster-1.6.1+pt20cu118 torch_scatter-2.1.1+pt20cu118 torch_sparse-0.6.17+pt20cu118 torch_spline_conv-1.2.2+pt20cu118\n"
          ]
        }
      ]
    },
    {
      "cell_type": "code",
      "source": [
        "! pip install torch_geometric"
      ],
      "metadata": {
        "colab": {
          "base_uri": "https://localhost:8080/"
        },
        "id": "w4Aff55JGNSW",
        "outputId": "de1570d9-99ea-4d1d-bc11-955c567d0024"
      },
      "execution_count": 2,
      "outputs": [
        {
          "output_type": "stream",
          "name": "stdout",
          "text": [
            "Collecting torch_geometric\n",
            "  Downloading torch_geometric-2.3.1.tar.gz (661 kB)\n",
            "\u001b[?25l     \u001b[90m━━━━━━━━━━━━━━━━━━━━━━━━━━━━━━━━━━━━━━━━\u001b[0m \u001b[32m0.0/661.6 kB\u001b[0m \u001b[31m?\u001b[0m eta \u001b[36m-:--:--\u001b[0m\r\u001b[2K     \u001b[91m━━━━━━━━━━━━━━━━━━━━━━━━━━━━━━━━━━━━━\u001b[0m\u001b[91m╸\u001b[0m \u001b[32m655.4/661.6 kB\u001b[0m \u001b[31m35.1 MB/s\u001b[0m eta \u001b[36m0:00:01\u001b[0m\r\u001b[2K     \u001b[90m━━━━━━━━━━━━━━━━━━━━━━━━━━━━━━━━━━━━━━\u001b[0m \u001b[32m661.6/661.6 kB\u001b[0m \u001b[31m15.8 MB/s\u001b[0m eta \u001b[36m0:00:00\u001b[0m\n",
            "\u001b[?25h  Installing build dependencies ... \u001b[?25l\u001b[?25hdone\n",
            "  Getting requirements to build wheel ... \u001b[?25l\u001b[?25hdone\n",
            "  Preparing metadata (pyproject.toml) ... \u001b[?25l\u001b[?25hdone\n",
            "Requirement already satisfied: tqdm in /usr/local/lib/python3.10/dist-packages (from torch_geometric) (4.65.0)\n",
            "Requirement already satisfied: numpy in /usr/local/lib/python3.10/dist-packages (from torch_geometric) (1.22.4)\n",
            "Requirement already satisfied: scipy in /usr/local/lib/python3.10/dist-packages (from torch_geometric) (1.10.1)\n",
            "Requirement already satisfied: jinja2 in /usr/local/lib/python3.10/dist-packages (from torch_geometric) (3.1.2)\n",
            "Requirement already satisfied: requests in /usr/local/lib/python3.10/dist-packages (from torch_geometric) (2.27.1)\n",
            "Requirement already satisfied: pyparsing in /usr/local/lib/python3.10/dist-packages (from torch_geometric) (3.1.0)\n",
            "Requirement already satisfied: scikit-learn in /usr/local/lib/python3.10/dist-packages (from torch_geometric) (1.2.2)\n",
            "Requirement already satisfied: psutil>=5.8.0 in /usr/local/lib/python3.10/dist-packages (from torch_geometric) (5.9.5)\n",
            "Requirement already satisfied: MarkupSafe>=2.0 in /usr/local/lib/python3.10/dist-packages (from jinja2->torch_geometric) (2.1.3)\n",
            "Requirement already satisfied: urllib3<1.27,>=1.21.1 in /usr/local/lib/python3.10/dist-packages (from requests->torch_geometric) (1.26.16)\n",
            "Requirement already satisfied: certifi>=2017.4.17 in /usr/local/lib/python3.10/dist-packages (from requests->torch_geometric) (2023.5.7)\n",
            "Requirement already satisfied: charset-normalizer~=2.0.0 in /usr/local/lib/python3.10/dist-packages (from requests->torch_geometric) (2.0.12)\n",
            "Requirement already satisfied: idna<4,>=2.5 in /usr/local/lib/python3.10/dist-packages (from requests->torch_geometric) (3.4)\n",
            "Requirement already satisfied: joblib>=1.1.1 in /usr/local/lib/python3.10/dist-packages (from scikit-learn->torch_geometric) (1.2.0)\n",
            "Requirement already satisfied: threadpoolctl>=2.0.0 in /usr/local/lib/python3.10/dist-packages (from scikit-learn->torch_geometric) (3.1.0)\n",
            "Building wheels for collected packages: torch_geometric\n",
            "  Building wheel for torch_geometric (pyproject.toml) ... \u001b[?25l\u001b[?25hdone\n",
            "  Created wheel for torch_geometric: filename=torch_geometric-2.3.1-py3-none-any.whl size=910459 sha256=173e63c6b1e46629d80f1e5ed05783f8b748bd6d1502b26828aa5b63b9cd47b4\n",
            "  Stored in directory: /root/.cache/pip/wheels/ac/dc/30/e2874821ff308ee67dcd7a66dbde912411e19e35a1addda028\n",
            "Successfully built torch_geometric\n",
            "Installing collected packages: torch_geometric\n",
            "Successfully installed torch_geometric-2.3.1\n"
          ]
        }
      ]
    },
    {
      "cell_type": "code",
      "execution_count": 3,
      "metadata": {
        "id": "KglNFyayF-yP"
      },
      "outputs": [],
      "source": [
        "import numpy as np\n",
        "import pandas as pd\n",
        "import os\n",
        "import torch_geometric.transforms as T\n",
        "from torch_geometric.datasets import Planetoid\n",
        "import matplotlib.pyplot as plt\n",
        "import torch\n",
        "import torch.nn.functional as F\n",
        "from torch_geometric.nn import GCNConv\n",
        "import torch_geometric\n",
        "from torch.nn import Parameter\n",
        "from torch_geometric.utils.convert import to_networkx\n",
        "import networkx as nx\n",
        "import urllib.request\n",
        "import tarfile\n",
        "from torch_geometric.nn import GraphSAGE\n",
        "from torch_geometric.nn import SAGEConv\n",
        "from torch_geometric.nn import GATConv\n",
        "from torch_geometric.loader import NeighborLoader\n",
        "from torch_geometric.utils import to_networkx\n",
        "from dataset import HW3Dataset"
      ]
    },
    {
      "cell_type": "code",
      "source": [
        "!pip install wandb -qU"
      ],
      "metadata": {
        "colab": {
          "base_uri": "https://localhost:8080/"
        },
        "id": "ihUz4DPiXPKp",
        "outputId": "a927b87a-1f3d-4760-db67-4cbfac485106"
      },
      "execution_count": null,
      "outputs": [
        {
          "output_type": "stream",
          "name": "stdout",
          "text": [
            "\u001b[?25l     \u001b[90m━━━━━━━━━━━━━━━━━━━━━━━━━━━━━━━━━━━━━━━━\u001b[0m \u001b[32m0.0/2.1 MB\u001b[0m \u001b[31m?\u001b[0m eta \u001b[36m-:--:--\u001b[0m\r\u001b[2K     \u001b[91m━━━━━━━━━━━━━━━━━━━━━━━━━━━━━━━━━━━━━━━\u001b[0m\u001b[91m╸\u001b[0m \u001b[32m2.1/2.1 MB\u001b[0m \u001b[31m109.6 MB/s\u001b[0m eta \u001b[36m0:00:01\u001b[0m\r\u001b[2K     \u001b[90m━━━━━━━━━━━━━━━━━━━━━━━━━━━━━━━━━━━━━━━━\u001b[0m \u001b[32m2.1/2.1 MB\u001b[0m \u001b[31m56.1 MB/s\u001b[0m eta \u001b[36m0:00:00\u001b[0m\n",
            "\u001b[2K     \u001b[90m━━━━━━━━━━━━━━━━━━━━━━━━━━━━━━━━━━━━━━\u001b[0m \u001b[32m184.3/184.3 kB\u001b[0m \u001b[31m22.2 MB/s\u001b[0m eta \u001b[36m0:00:00\u001b[0m\n",
            "\u001b[2K     \u001b[90m━━━━━━━━━━━━━━━━━━━━━━━━━━━━━━━━━━━━━━\u001b[0m \u001b[32m209.4/209.4 kB\u001b[0m \u001b[31m20.5 MB/s\u001b[0m eta \u001b[36m0:00:00\u001b[0m\n",
            "\u001b[?25h  Preparing metadata (setup.py) ... \u001b[?25l\u001b[?25hdone\n",
            "\u001b[2K     \u001b[90m━━━━━━━━━━━━━━━━━━━━━━━━━━━━━━━━━━━━━━━━\u001b[0m \u001b[32m62.7/62.7 kB\u001b[0m \u001b[31m7.8 MB/s\u001b[0m eta \u001b[36m0:00:00\u001b[0m\n",
            "\u001b[?25h  Building wheel for pathtools (setup.py) ... \u001b[?25l\u001b[?25hdone\n"
          ]
        }
      ]
    },
    {
      "cell_type": "code",
      "source": [
        "import wandb\n",
        "wandb.login()"
      ],
      "metadata": {
        "colab": {
          "base_uri": "https://localhost:8080/"
        },
        "id": "kyVbB79IXJgX",
        "outputId": "8dadf6e7-cf8e-42ef-f86f-1fe22994f15a"
      },
      "execution_count": null,
      "outputs": [
        {
          "output_type": "stream",
          "name": "stderr",
          "text": [
            "\u001b[34m\u001b[1mwandb\u001b[0m: Currently logged in as: \u001b[33momerie\u001b[0m (\u001b[33mwhisper_team\u001b[0m). Use \u001b[1m`wandb login --relogin`\u001b[0m to force relogin\n"
          ]
        },
        {
          "output_type": "execute_result",
          "data": {
            "text/plain": [
              "True"
            ]
          },
          "metadata": {},
          "execution_count": 2
        }
      ]
    },
    {
      "cell_type": "code",
      "source": [
        "dataset = HW3Dataset(root='data/hw3/')"
      ],
      "metadata": {
        "id": "9fT3Zb_5GGOq",
        "colab": {
          "base_uri": "https://localhost:8080/"
        },
        "outputId": "fb26bbe3-92aa-4db2-d6f5-692424ca5374"
      },
      "execution_count": 4,
      "outputs": [
        {
          "output_type": "stream",
          "name": "stderr",
          "text": [
            "Processing...\n",
            "Done!\n"
          ]
        }
      ]
    },
    {
      "cell_type": "code",
      "source": [
        "data = dataset[0]"
      ],
      "metadata": {
        "id": "fgeo_9BdG-Gz"
      },
      "execution_count": 5,
      "outputs": []
    },
    {
      "cell_type": "code",
      "source": [
        "data"
      ],
      "metadata": {
        "colab": {
          "base_uri": "https://localhost:8080/"
        },
        "id": "X3a8FnJ4BXeV",
        "outputId": "30e3eeed-ba39-4a34-e544-37c02d09eb67"
      },
      "execution_count": 6,
      "outputs": [
        {
          "output_type": "execute_result",
          "data": {
            "text/plain": [
              "Data(x=[100000, 128], edge_index=[2, 444288], y=[100000, 1], node_year=[100000, 1], train_mask=[80000], val_mask=[20000])"
            ]
          },
          "metadata": {},
          "execution_count": 6
        }
      ]
    },
    {
      "cell_type": "code",
      "source": [
        "preds = pd.read_csv('predictions.csv')"
      ],
      "metadata": {
        "id": "mZHF8UebBZ2T"
      },
      "execution_count": 7,
      "outputs": []
    },
    {
      "cell_type": "code",
      "source": [
        "from sklearn.metrics import accuracy_score, classification_report, confusion_matrix\n"
      ],
      "metadata": {
        "id": "o4BY3LXoCWUZ"
      },
      "execution_count": 11,
      "outputs": []
    },
    {
      "cell_type": "code",
      "source": [
        "y_true = np.array([y[0].item() for y in data.y])\n",
        "y_pred = preds['prediction']"
      ],
      "metadata": {
        "id": "Louje6XyCoVt"
      },
      "execution_count": 15,
      "outputs": []
    },
    {
      "cell_type": "code",
      "source": [
        "y_true_val = np.array([y[0].item() for y in data.y[80000:]])\n",
        "y_pred_val = np.array(preds['prediction'].iloc[80000:])"
      ],
      "metadata": {
        "id": "kC0CIikcDDIM"
      },
      "execution_count": 25,
      "outputs": []
    },
    {
      "cell_type": "code",
      "source": [
        "# Calculate accuracy\n",
        "accuracy = accuracy_score(y_true_val, y_pred_val)\n",
        "print(\"Accuracy:\", accuracy)\n",
        "\n",
        "# Generate classification report\n",
        "class_names = np.arange(40)  # Assuming you have 40 classes\n",
        "report = classification_report(y_true_val, y_pred_val)\n",
        "print(\"Classification Report:\\n\", report)\n",
        "\n",
        "# Generate confusion matrix\n",
        "cm = confusion_matrix(y_true_val, y_pred_val)\n",
        "print(\"Confusion Matrix:\\n\", cm)"
      ],
      "metadata": {
        "colab": {
          "base_uri": "https://localhost:8080/"
        },
        "id": "ge3t-DVnDQyI",
        "outputId": "eb0ff8da-aa41-4a14-eeb0-d338fa7c9132"
      },
      "execution_count": 26,
      "outputs": [
        {
          "output_type": "stream",
          "name": "stdout",
          "text": [
            "Accuracy: 0.61495\n",
            "Classification Report:\n",
            "               precision    recall  f1-score   support\n",
            "\n",
            "           0       0.33      0.21      0.26        89\n",
            "           1       0.41      0.20      0.27        80\n",
            "           2       0.60      0.63      0.62       618\n",
            "           3       0.34      0.20      0.26       250\n",
            "           4       0.59      0.56      0.57       673\n",
            "           5       0.47      0.48      0.48       567\n",
            "           6       0.38      0.20      0.27       191\n",
            "           7       0.45      0.22      0.29        79\n",
            "           8       0.58      0.51      0.54       768\n",
            "           9       0.53      0.44      0.48       328\n",
            "          10       0.42      0.47      0.45      1058\n",
            "          11       0.27      0.08      0.12        89\n",
            "          12       0.00      0.00      0.00         5\n",
            "          13       0.29      0.34      0.31       264\n",
            "          14       0.58      0.70      0.63        54\n",
            "          15       0.47      0.48      0.48        54\n",
            "          16       0.76      0.81      0.78      3355\n",
            "          17       0.29      0.05      0.08        43\n",
            "          18       0.49      0.46      0.48        98\n",
            "          19       0.54      0.58      0.56       410\n",
            "          20       0.58      0.59      0.58       244\n",
            "          21       0.00      0.00      0.00        53\n",
            "          22       0.38      0.33      0.35       212\n",
            "          23       0.59      0.61      0.60       333\n",
            "          24       0.54      0.52      0.53      2176\n",
            "          25       0.53      0.48      0.50       149\n",
            "          26       0.52      0.59      0.55       582\n",
            "          27       0.59      0.54      0.56       484\n",
            "          28       0.78      0.88      0.83      2663\n",
            "          29       0.40      0.05      0.08        44\n",
            "          30       0.68      0.75      0.71      1333\n",
            "          31       0.39      0.29      0.34       354\n",
            "          32       0.92      0.20      0.33        60\n",
            "          33       0.50      0.50      0.50       132\n",
            "          34       0.58      0.63      0.60       957\n",
            "          35       0.00      0.00      0.00        12\n",
            "          36       0.60      0.64      0.62       430\n",
            "          37       0.50      0.45      0.48       280\n",
            "          38       0.70      0.68      0.69       187\n",
            "          39       0.46      0.23      0.30       242\n",
            "\n",
            "    accuracy                           0.61     20000\n",
            "   macro avg       0.48      0.41      0.43     20000\n",
            "weighted avg       0.60      0.61      0.60     20000\n",
            "\n",
            "Confusion Matrix:\n",
            " [[ 19   0   2 ...   0   0   0]\n",
            " [  1  16   0 ...   0   0   0]\n",
            " [  0   0 392 ...   8   0   1]\n",
            " ...\n",
            " [  0   0  10 ... 127   5   0]\n",
            " [  0   0   0 ...   0 128   0]\n",
            " [  0   0   5 ...   0   0  55]]\n"
          ]
        },
        {
          "output_type": "stream",
          "name": "stderr",
          "text": [
            "/usr/local/lib/python3.10/dist-packages/sklearn/metrics/_classification.py:1344: UndefinedMetricWarning: Precision and F-score are ill-defined and being set to 0.0 in labels with no predicted samples. Use `zero_division` parameter to control this behavior.\n",
            "  _warn_prf(average, modifier, msg_start, len(result))\n",
            "/usr/local/lib/python3.10/dist-packages/sklearn/metrics/_classification.py:1344: UndefinedMetricWarning: Precision and F-score are ill-defined and being set to 0.0 in labels with no predicted samples. Use `zero_division` parameter to control this behavior.\n",
            "  _warn_prf(average, modifier, msg_start, len(result))\n",
            "/usr/local/lib/python3.10/dist-packages/sklearn/metrics/_classification.py:1344: UndefinedMetricWarning: Precision and F-score are ill-defined and being set to 0.0 in labels with no predicted samples. Use `zero_division` parameter to control this behavior.\n",
            "  _warn_prf(average, modifier, msg_start, len(result))\n"
          ]
        }
      ]
    },
    {
      "cell_type": "code",
      "source": [
        "# Calculate accuracy\n",
        "accuracy = accuracy_score(y_true, y_pred)\n",
        "print(\"Accuracy:\", accuracy)\n",
        "\n",
        "# Generate classification report\n",
        "class_names = np.arange(40)  # Assuming you have 40 classes\n",
        "report = classification_report(y_true, y_pred)\n",
        "print(\"Classification Report:\\n\", report)\n",
        "\n",
        "# Generate confusion matrix\n",
        "cm = confusion_matrix(y_true, y_pred, labels=class_names)\n",
        "print(\"Confusion Matrix:\\n\", cm)"
      ],
      "metadata": {
        "colab": {
          "base_uri": "https://localhost:8080/"
        },
        "id": "GwXYFM-eBhkl",
        "outputId": "11aab1a5-72ec-4be1-c734-576b2001008b"
      },
      "execution_count": 16,
      "outputs": [
        {
          "output_type": "stream",
          "name": "stdout",
          "text": [
            "Accuracy: 0.7009\n",
            "Classification Report:\n",
            "               precision    recall  f1-score   support\n",
            "\n",
            "           0       0.44      0.26      0.33       459\n",
            "           1       0.56      0.22      0.32       417\n",
            "           2       0.67      0.72      0.70      3765\n",
            "           3       0.40      0.26      0.32      1154\n",
            "           4       0.72      0.68      0.70      3212\n",
            "           5       0.62      0.63      0.63      3154\n",
            "           6       0.49      0.27      0.35       795\n",
            "           7       0.52      0.21      0.30       406\n",
            "           8       0.67      0.58      0.62      4341\n",
            "           9       0.67      0.55      0.60      2314\n",
            "          10       0.59      0.61      0.60      5594\n",
            "          11       0.45      0.11      0.18       436\n",
            "          12       0.00      0.00      0.00        23\n",
            "          13       0.49      0.47      0.48      1416\n",
            "          14       0.74      0.73      0.74       486\n",
            "          15       0.54      0.44      0.49       277\n",
            "          16       0.80      0.87      0.83     12112\n",
            "          17       0.61      0.08      0.15       229\n",
            "          18       0.60      0.63      0.61       443\n",
            "          19       0.63      0.67      0.65      2059\n",
            "          20       0.74      0.71      0.73      1578\n",
            "          21       0.57      0.01      0.02       316\n",
            "          22       0.60      0.45      0.51      1332\n",
            "          23       0.70      0.69      0.70      1679\n",
            "          24       0.59      0.65      0.61      8338\n",
            "          25       0.62      0.59      0.60       556\n",
            "          26       0.65      0.71      0.68      3068\n",
            "          27       0.71      0.68      0.69      1956\n",
            "          28       0.84      0.93      0.88     16991\n",
            "          29       0.56      0.05      0.10       256\n",
            "          30       0.74      0.83      0.78      5156\n",
            "          31       0.51      0.39      0.45      1547\n",
            "          32       0.60      0.20      0.30       286\n",
            "          33       0.66      0.65      0.66       960\n",
            "          34       0.65      0.70      0.67      5740\n",
            "          35       0.67      0.08      0.14        79\n",
            "          36       0.70      0.73      0.71      2625\n",
            "          37       0.67      0.56      0.61      1684\n",
            "          38       0.77      0.79      0.78      1158\n",
            "          39       0.56      0.32      0.41      1603\n",
            "\n",
            "    accuracy                           0.70    100000\n",
            "   macro avg       0.61      0.49      0.52    100000\n",
            "weighted avg       0.69      0.70      0.69    100000\n",
            "\n",
            "Confusion Matrix:\n",
            " [[ 119    0    5 ...    0    0    0]\n",
            " [   2   93    1 ...    1    0    0]\n",
            " [   0    0 2724 ...   37    2   15]\n",
            " ...\n",
            " [   0    0   49 ...  951   14    1]\n",
            " [   0    0    5 ...    9  917    0]\n",
            " [   0    0   24 ...    1    0  519]]\n"
          ]
        },
        {
          "output_type": "stream",
          "name": "stderr",
          "text": [
            "/usr/local/lib/python3.10/dist-packages/sklearn/metrics/_classification.py:1344: UndefinedMetricWarning: Precision and F-score are ill-defined and being set to 0.0 in labels with no predicted samples. Use `zero_division` parameter to control this behavior.\n",
            "  _warn_prf(average, modifier, msg_start, len(result))\n",
            "/usr/local/lib/python3.10/dist-packages/sklearn/metrics/_classification.py:1344: UndefinedMetricWarning: Precision and F-score are ill-defined and being set to 0.0 in labels with no predicted samples. Use `zero_division` parameter to control this behavior.\n",
            "  _warn_prf(average, modifier, msg_start, len(result))\n",
            "/usr/local/lib/python3.10/dist-packages/sklearn/metrics/_classification.py:1344: UndefinedMetricWarning: Precision and F-score are ill-defined and being set to 0.0 in labels with no predicted samples. Use `zero_division` parameter to control this behavior.\n",
            "  _warn_prf(average, modifier, msg_start, len(result))\n"
          ]
        }
      ]
    },
    {
      "cell_type": "code",
      "source": [
        "from torch_geometric.utils import degree"
      ],
      "metadata": {
        "id": "IX-Fqaf_C-wV"
      },
      "execution_count": null,
      "outputs": []
    },
    {
      "cell_type": "code",
      "source": [
        "max_degree = degree(data.edge_index[1]).max().item()\n",
        "print(\"Maximal degree:\", max_degree)"
      ],
      "metadata": {
        "colab": {
          "base_uri": "https://localhost:8080/"
        },
        "id": "b5Iw8bs7CN0U",
        "outputId": "e3890a3b-ea18-4346-8bc9-fc48654b5f9b"
      },
      "execution_count": null,
      "outputs": [
        {
          "output_type": "stream",
          "name": "stdout",
          "text": [
            "Maximal degree: 3804.0\n"
          ]
        }
      ]
    },
    {
      "cell_type": "code",
      "source": [
        "print(data)\n"
      ],
      "metadata": {
        "colab": {
          "base_uri": "https://localhost:8080/"
        },
        "id": "Z4tvs7Yr6Liy",
        "outputId": "6dd70101-9430-4e87-91ad-a7b3a90aec53"
      },
      "execution_count": null,
      "outputs": [
        {
          "output_type": "stream",
          "name": "stdout",
          "text": [
            "Data(x=[100000, 128], edge_index=[2, 444288], y=[100000, 1], node_year=[100000, 1], train_mask=[80000], val_mask=[20000])\n"
          ]
        }
      ]
    },
    {
      "cell_type": "code",
      "source": [
        "# view the dataset details\n",
        "# Print information about the dataset\n",
        "print(f'Dataset: {dataset}')\n",
        "print('-------------------')\n",
        "print(f'Number of graphs: {len(dataset)}')\n",
        "print(f'Number of nodes: {data.x.shape[0]}')\n",
        "print(f'Number of edges: {data.num_edges}')\n",
        "print(f'Number of features: {dataset.num_features}')\n",
        "print(f'Number of classes: {dataset.num_classes}')\n",
        "\n",
        "# Print information about the graph\n",
        "print(f'\\nGraph:')\n",
        "print('------')\n",
        "print(f'Training nodes: {len(data.train_mask)}')\n",
        "print(f'Evaluation nodes: {len(data.val_mask)}')\n",
        "print(f'Edges are directed: {data.is_directed()}')\n",
        "print(f'Graph has isolated nodes: {data.has_isolated_nodes()}')\n",
        "print(f'Graph has self-loops: {data.has_self_loops()}')\n",
        "print(f'Average node degree: {data.num_edges / data.num_nodes:.2f}')\n"
      ],
      "metadata": {
        "colab": {
          "base_uri": "https://localhost:8080/"
        },
        "id": "N1A2uKATHDBD",
        "outputId": "74a3ded7-45e8-4705-ff46-f8dee1b2c330"
      },
      "execution_count": null,
      "outputs": [
        {
          "output_type": "stream",
          "name": "stdout",
          "text": [
            "Dataset: HW3Dataset()\n",
            "-------------------\n",
            "Number of graphs: 1\n",
            "Number of nodes: 100000\n",
            "Number of edges: 444288\n",
            "Number of features: 128\n",
            "Number of classes: 40\n",
            "\n",
            "Graph:\n",
            "------\n",
            "Training nodes: 80000\n",
            "Evaluation nodes: 20000\n",
            "Edges are directed: True\n",
            "Graph has isolated nodes: True\n",
            "Graph has self-loops: False\n",
            "Average node degree: 4.44\n"
          ]
        }
      ]
    },
    {
      "cell_type": "code",
      "source": [
        "batch_size = 32"
      ],
      "metadata": {
        "id": "GL0u3mG3RQla"
      },
      "execution_count": null,
      "outputs": []
    },
    {
      "cell_type": "code",
      "source": [
        "device = torch.device('cuda' if torch.cuda.is_available() else 'cpu')\n",
        "train_loader = NeighborLoader(\n",
        "    data,\n",
        "    num_neighbors=[20,50],\n",
        "    batch_size=batch_size,\n",
        "    input_nodes=data.train_mask,\n",
        "    shuffle=True\n",
        ")"
      ],
      "metadata": {
        "id": "1qLYxg7-M33C"
      },
      "execution_count": null,
      "outputs": []
    },
    {
      "cell_type": "code",
      "source": [
        "val_loader = NeighborLoader(\n",
        "    data,\n",
        "    num_neighbors=[20,50],\n",
        "    batch_size=batch_size,\n",
        "    input_nodes=data.val_mask,\n",
        "    shuffle=True\n",
        ")"
      ],
      "metadata": {
        "id": "-Q7aAkbHIzRD"
      },
      "execution_count": null,
      "outputs": []
    },
    {
      "cell_type": "code",
      "source": [
        "batch = next(iter(train_loader))"
      ],
      "metadata": {
        "id": "-g0100dO93Cw"
      },
      "execution_count": null,
      "outputs": []
    },
    {
      "cell_type": "code",
      "source": [
        "batch"
      ],
      "metadata": {
        "colab": {
          "base_uri": "https://localhost:8080/"
        },
        "id": "UokWFau1EYLa",
        "outputId": "a1693a35-0c13-466d-baf4-ff493d020523"
      },
      "execution_count": null,
      "outputs": [
        {
          "output_type": "execute_result",
          "data": {
            "text/plain": [
              "Data(x=[197, 128], edge_index=[2, 211], y=[197, 1], node_year=[197, 1], train_mask=[80000], val_mask=[20000], n_id=[197], e_id=[211], num_sampled_nodes=[3], num_sampled_edges=[2], input_id=[32], batch_size=32)"
            ]
          },
          "metadata": {},
          "execution_count": 10
        }
      ]
    },
    {
      "cell_type": "code",
      "source": [
        "batch.n_id[:5]"
      ],
      "metadata": {
        "colab": {
          "base_uri": "https://localhost:8080/"
        },
        "id": "Y0h2yaokEij1",
        "outputId": "2cf919a4-ac51-4671-feff-c75656e4c803"
      },
      "execution_count": null,
      "outputs": [
        {
          "output_type": "execute_result",
          "data": {
            "text/plain": [
              "(tensor([0, 1, 2, 3, 4]), tensor([0, 1, 2, 3, 4]))"
            ]
          },
          "metadata": {},
          "execution_count": 20
        }
      ]
    },
    {
      "cell_type": "code",
      "source": [
        "def accuracy(pred_y, y):\n",
        "    \"\"\"Calculate accuracy.\"\"\"\n",
        "    return ((pred_y == y).sum() / len(y)).item()"
      ],
      "metadata": {
        "id": "cazBxQNoNG1h"
      },
      "execution_count": null,
      "outputs": []
    },
    {
      "cell_type": "code",
      "source": [
        "def val_accuracy(pred_y, y):\n",
        "    \"\"\"Calculate val accuracy.\"\"\"\n",
        "    return ((pred_y == y).sum()).item()"
      ],
      "metadata": {
        "id": "-_cqgfBEHEgS"
      },
      "execution_count": null,
      "outputs": []
    },
    {
      "cell_type": "code",
      "source": [
        "def get_train_mask(batch):\n",
        "  idxs = batch.n_id\n",
        "  train_mask = []\n",
        "  for i,org_id in enumerate(idxs):\n",
        "    if org_id<80000:\n",
        "      train_mask.append(i)\n",
        "  return train_mask"
      ],
      "metadata": {
        "id": "UaD7nLgWYx3d"
      },
      "execution_count": null,
      "outputs": []
    },
    {
      "cell_type": "code",
      "source": [
        "def get_val_mask(batch):\n",
        "  idxs = batch.n_id\n",
        "  input_idxs = batch.input_id\n",
        "  val_mask = []\n",
        "  for i,org_id in enumerate(idxs):\n",
        "    if org_id-80000 in input_idxs:\n",
        "      val_mask.append(i)\n",
        "  return val_mask"
      ],
      "metadata": {
        "id": "XPwRrzdvJllt"
      },
      "execution_count": null,
      "outputs": []
    },
    {
      "cell_type": "code",
      "source": [
        "val_batch = next(iter(val_loader))"
      ],
      "metadata": {
        "id": "NYXWXe_wLPH9"
      },
      "execution_count": null,
      "outputs": []
    },
    {
      "cell_type": "code",
      "source": [
        "val_batch"
      ],
      "metadata": {
        "colab": {
          "base_uri": "https://localhost:8080/"
        },
        "id": "_P3xHOQcLUW6",
        "outputId": "676ff8dc-3c08-4462-a9f6-164558241270"
      },
      "execution_count": null,
      "outputs": [
        {
          "output_type": "execute_result",
          "data": {
            "text/plain": [
              "Data(x=[350, 128], edge_index=[2, 398], y=[350, 1], node_year=[350, 1], train_mask=[80000], val_mask=[20000], n_id=[350], e_id=[398], num_sampled_nodes=[3], num_sampled_edges=[2], input_id=[32], batch_size=32)"
            ]
          },
          "metadata": {},
          "execution_count": 12
        }
      ]
    },
    {
      "cell_type": "code",
      "source": [
        "val_batch.input_id"
      ],
      "metadata": {
        "colab": {
          "base_uri": "https://localhost:8080/"
        },
        "id": "WNWmpcBZLy0a",
        "outputId": "81ada8eb-6d50-4d5b-e2ad-02232027b989"
      },
      "execution_count": null,
      "outputs": [
        {
          "output_type": "execute_result",
          "data": {
            "text/plain": [
              "tensor([19344,   532, 11671, 19179,  6290, 10520,  5556,  3463,  9579, 10981,\n",
              "         3831, 14543, 18636,  6964, 12482,  5217,  1734,  4767,  7591,  5382,\n",
              "         9006,  1032, 12626, 12611, 11949,  3314, 17658, 18202, 10924, 17175,\n",
              "         4752, 19230])"
            ]
          },
          "metadata": {},
          "execution_count": 97
        }
      ]
    },
    {
      "cell_type": "code",
      "source": [
        "hist = np.zeros(40)\n",
        "for y in data.y:\n",
        "  hist[y[0].item()]+=1"
      ],
      "metadata": {
        "id": "I1jbL_xnnHer"
      },
      "execution_count": null,
      "outputs": []
    },
    {
      "cell_type": "code",
      "source": [
        "for idx, count in enumerate(hist):\n",
        "  print(f'for class {idx}: {count}')"
      ],
      "metadata": {
        "colab": {
          "base_uri": "https://localhost:8080/"
        },
        "id": "dgfiQ4bx-NqQ",
        "outputId": "791a2f26-bfa2-40f7-9b05-770cc0fe9773"
      },
      "execution_count": null,
      "outputs": [
        {
          "output_type": "stream",
          "name": "stdout",
          "text": [
            "for class 0: 459.0\n",
            "for class 1: 417.0\n",
            "for class 2: 3765.0\n",
            "for class 3: 1154.0\n",
            "for class 4: 3212.0\n",
            "for class 5: 3154.0\n",
            "for class 6: 795.0\n",
            "for class 7: 406.0\n",
            "for class 8: 4341.0\n",
            "for class 9: 2314.0\n",
            "for class 10: 5594.0\n",
            "for class 11: 436.0\n",
            "for class 12: 23.0\n",
            "for class 13: 1416.0\n",
            "for class 14: 486.0\n",
            "for class 15: 277.0\n",
            "for class 16: 12112.0\n",
            "for class 17: 229.0\n",
            "for class 18: 443.0\n",
            "for class 19: 2059.0\n",
            "for class 20: 1578.0\n",
            "for class 21: 316.0\n",
            "for class 22: 1332.0\n",
            "for class 23: 1679.0\n",
            "for class 24: 8338.0\n",
            "for class 25: 556.0\n",
            "for class 26: 3068.0\n",
            "for class 27: 1956.0\n",
            "for class 28: 16991.0\n",
            "for class 29: 256.0\n",
            "for class 30: 5156.0\n",
            "for class 31: 1547.0\n",
            "for class 32: 286.0\n",
            "for class 33: 960.0\n",
            "for class 34: 5740.0\n",
            "for class 35: 79.0\n",
            "for class 36: 2625.0\n",
            "for class 37: 1684.0\n",
            "for class 38: 1158.0\n",
            "for class 39: 1603.0\n"
          ]
        }
      ]
    },
    {
      "cell_type": "code",
      "source": [
        " # Create a bar plot\n",
        "plt.bar(np.arange(40), hist)\n",
        "\n",
        "# Set labels and title\n",
        "plt.xlabel('Classes')\n",
        "plt.ylabel('Counts')\n",
        "plt.title('Counts for Different Classes')\n",
        "\n",
        "# Display the plot\n",
        "plt.show()"
      ],
      "metadata": {
        "colab": {
          "base_uri": "https://localhost:8080/",
          "height": 472
        },
        "id": "JJAzoP9eq-RS",
        "outputId": "1254e4a6-db8d-4357-afde-8f89944d59b1"
      },
      "execution_count": null,
      "outputs": [
        {
          "output_type": "display_data",
          "data": {
            "text/plain": [
              "<Figure size 640x480 with 1 Axes>"
            ],
            "image/png": "[encoded data removed]"
          },
          "metadata": {}
        }
      ]
    },
    {
      "cell_type": "code",
      "source": [
        "batch1 = next(iter(train_loader))\n",
        "batch2 = next(iter(train_loader))"
      ],
      "metadata": {
        "id": "ZxoNZasWsooq"
      },
      "execution_count": null,
      "outputs": []
    },
    {
      "cell_type": "code",
      "source": [
        "batch1"
      ],
      "metadata": {
        "colab": {
          "base_uri": "https://localhost:8080/"
        },
        "id": "Xe_S3s_M7DGp",
        "outputId": "76860bcc-018f-4b67-d764-b5291fd33ba3"
      },
      "execution_count": null,
      "outputs": [
        {
          "output_type": "execute_result",
          "data": {
            "text/plain": [
              "Data(x=[478, 128], edge_index=[2, 543], y=[478, 1], node_year=[478, 1], train_mask=[80000], val_mask=[20000], n_id=[478], e_id=[543], num_sampled_nodes=[3], num_sampled_edges=[2], input_id=[32], batch_size=32)"
            ]
          },
          "metadata": {},
          "execution_count": 179
        }
      ]
    },
    {
      "cell_type": "code",
      "source": [
        "for idx,row in enumerate(batch1.edge_index):\n",
        "  for it in row:\n",
        "    if it.item() == 28:\n",
        "      print(f'row {idx} ')"
      ],
      "metadata": {
        "colab": {
          "base_uri": "https://localhost:8080/"
        },
        "id": "To0wF7kE6hXb",
        "outputId": "b8bfe075-34cd-4aa2-b75a-029708bfc935"
      },
      "execution_count": null,
      "outputs": [
        {
          "output_type": "stream",
          "name": "stdout",
          "text": [
            "row 1 \n",
            "row 1 \n",
            "row 1 \n"
          ]
        }
      ]
    },
    {
      "cell_type": "code",
      "source": [
        "batch1, batch2"
      ],
      "metadata": {
        "colab": {
          "base_uri": "https://localhost:8080/"
        },
        "id": "21MOsODaszLB",
        "outputId": "a9f3fb57-402c-4d7d-892b-0bfd3b8bf390"
      },
      "execution_count": null,
      "outputs": [
        {
          "output_type": "execute_result",
          "data": {
            "text/plain": [
              "(Data(x=[225, 128], edge_index=[2, 223], y=[225, 1], node_year=[225, 1], train_mask=[80000], val_mask=[20000], n_id=[225], e_id=[223], num_sampled_nodes=[3], num_sampled_edges=[2], input_id=[32], batch_size=32),\n",
              " Data(x=[219, 128], edge_index=[2, 211], y=[219, 1], node_year=[219, 1], train_mask=[80000], val_mask=[20000], n_id=[219], e_id=[211], num_sampled_nodes=[3], num_sampled_edges=[2], input_id=[32], batch_size=32))"
            ]
          },
          "metadata": {},
          "execution_count": 57
        }
      ]
    },
    {
      "cell_type": "code",
      "source": [
        "def try_overfit(model, data, epochs):\n",
        "  criterion = torch.nn.CrossEntropyLoss()\n",
        "  optimizer = model.optimizer\n",
        "  batch1 = next(iter(train_loader))\n",
        "  batch2 = next(iter(train_loader))\n",
        "  batches = [batch1]\n",
        "  for epoch in range(epochs+1):\n",
        "    total_loss = 0\n",
        "    acc = 0\n",
        "    val_loss = 0\n",
        "    val_acc = 0\n",
        "    for batch in batches:\n",
        "      train_mask, val_mask = get_masks(batch)\n",
        "      optimizer.zero_grad()\n",
        "      labels = data.y.flatten()\n",
        "      labels_onehot = F.one_hot(labels, num_classes=40).float()\n",
        "      out, out_softmax = model(batch.x, batch.edge_index)\n",
        "      loss = criterion(out_softmax[train_mask], labels_onehot[train_mask])\n",
        "      total_loss += loss\n",
        "      acc += accuracy(out[train_mask].argmax(dim=1),\n",
        "                      labels[train_mask])\n",
        "      loss.backward()\n",
        "      optimizer.step()\n",
        "    print('-------------------------------')\n",
        "    print(f'Epoch {epoch} | Train Loss: {total_loss/len(batches):.3f} '\n",
        "          f'| Train Acc: {acc/len(batches)*100:>6.2f}% | Val Loss: '\n",
        "          f'{val_loss/len(batches):.2f} | Val Acc: '\n",
        "          f'{val_acc/len(batches)*100:.2f}%')"
      ],
      "metadata": {
        "id": "uiCFcnv2nLQo"
      },
      "execution_count": null,
      "outputs": []
    },
    {
      "cell_type": "code",
      "source": [
        "def train_gat(model, data, epochs):\n",
        "    data = data.to(device)\n",
        "    criterion = torch.nn.CrossEntropyLoss()\n",
        "    optimizer = torch.optim.Adam(model.parameters(), lr=0.0005, weight_decay=5e-4)\n",
        "    train_loader_length = len(train_loader)\n",
        "    model.train()\n",
        "    train_losses = []\n",
        "    val_losses = []\n",
        "    train_accs = []\n",
        "    test_accs = []\n",
        "    for epoch in range(epochs+1):\n",
        "      total_loss = 0\n",
        "      acc = 0\n",
        "      val_loss = 0\n",
        "      val_acc = 0\n",
        "\n",
        "      # Train on batches\n",
        "      for batch_idx, batch in enumerate(train_loader):\n",
        "        train_mask,val_mask = get_masks(batch)\n",
        "        labels = batch.y.flatten()\n",
        "        labels_onehot = F.one_hot(labels, num_classes=40).float()\n",
        "        out = model(batch.x, batch.edge_index, batch.node_year)\n",
        "        # print(batch.train_mask, )\n",
        "        # print(out[train_mask], out[train_mask].shape)\n",
        "        # print(labels_onehot[train_mask], labels_onehot[train_mask].shape)\n",
        "        # print(labels[train_mask])\n",
        "        # print(out[train_mask])\n",
        "        loss = criterion(out[train_mask], labels[train_mask])\n",
        "        total_loss += loss\n",
        "        acc += accuracy(out[train_mask].argmax(dim=1),\n",
        "                        labels[train_mask])\n",
        "        # if batch_idx % 900 == 0:\n",
        "        #   print('predictions and gt',out[train_mask].argmax(dim=1),\n",
        "        #                 labels[train_mask])\n",
        "        loss.backward()\n",
        "        optimizer.step()\n",
        "        optimizer.zero_grad()\n",
        "\n",
        "        # Validation\n",
        "        if val_mask:\n",
        "          val_loss += criterion(out[val_mask], labels_onehot[val_mask])\n",
        "          val_acc += accuracy(out[val_mask].argmax(dim=1),\n",
        "                              labels[val_mask])\n",
        "        else:\n",
        "          print('no val')\n",
        "\n",
        "        # print(f'for batch {batch_idx}|{train_loader_length} acc is: {val_acc}')\n",
        "      # Print metrics every 10 epochs\n",
        "      print('-------------------------------')\n",
        "      print(f'Epoch {epoch} | Train Loss: {total_loss/train_loader_length:.3f} '\n",
        "            f'| Train Acc: {acc/train_loader_length*100:>6.2f}% | Val Loss: '\n",
        "            f'{val_loss/train_loader_length:.2f} | Val Acc: '\n",
        "            f'{val_acc/len(data.val_mask)*100:.2f}%')"
      ],
      "metadata": {
        "id": "a1lIQe2VNI8Q"
      },
      "execution_count": null,
      "outputs": []
    },
    {
      "cell_type": "code",
      "source": [
        "def train_gcn(model, data, epochs, lr=0.001):\n",
        "    data = data.to(device)\n",
        "    criterion = torch.nn.CrossEntropyLoss()\n",
        "    optimizer = torch.optim.Adam(model.parameters(), lr=lr, weight_decay=5e-4)\n",
        "    train_loader_length = len(train_loader)\n",
        "    model.train()\n",
        "    train_losses = []\n",
        "    val_losses = []\n",
        "    train_accs = []\n",
        "    val_accs = []\n",
        "    best_val_acc = 0.0\n",
        "    for epoch in range(epochs+1):\n",
        "      total_loss = 0\n",
        "      acc = 0\n",
        "      val_loss = 0\n",
        "      val_acc = 0\n",
        "\n",
        "      # Train on batches\n",
        "      for batch_idx, batch in enumerate(train_loader):\n",
        "        # train_mask = get_train_mask(batch)\n",
        "        train_mask = [x for x in range(batch.batch_size)]\n",
        "        labels = batch.y.flatten()\n",
        "        labels_onehot = F.one_hot(labels, num_classes=40).float()\n",
        "        out = model(batch.x, batch.edge_index)\n",
        "        # print(batch.train_mask, )\n",
        "        # print(out[train_mask], out[train_mask].shape)\n",
        "        # print(labels_onehot[train_mask], labels_onehot[train_mask].shape)\n",
        "        # print(labels[train_mask])\n",
        "        # print(out[train_mask])\n",
        "        loss = criterion(out[train_mask], labels[train_mask])\n",
        "        total_loss += loss\n",
        "        acc += accuracy(out[train_mask].argmax(dim=1),\n",
        "                        labels[train_mask])\n",
        "        # if batch_idx % 900 == 0:\n",
        "        #   print('predictions and gt',out[train_mask].argmax(dim=1),\n",
        "        #                 labels[train_mask])\n",
        "        loss.backward()\n",
        "        optimizer.step()\n",
        "        optimizer.zero_grad()\n",
        "\n",
        "        # # Validation\n",
        "        # if val_mask:\n",
        "        #   val_loss += criterion(out[val_mask], labels_onehot[val_mask])\n",
        "        #   val_acc += val_accuracy(out[val_mask].argmax(dim=1),\n",
        "        #                       labels[val_mask])\n",
        "\n",
        "        # print(f'for batch {batch_idx}|{train_loader_length} acc is: {val_acc}')\n",
        "      # Get validation metrics\n",
        "      model.eval()\n",
        "      with torch.no_grad():\n",
        "        for batch_idx, batch in enumerate(val_loader):\n",
        "          # val_mask = get_val_mask(batch)\n",
        "          val_mask = [x for x in range(batch.batch_size)]\n",
        "          labels = batch.y.flatten()\n",
        "          labels_onehot = F.one_hot(labels, num_classes=40).float()\n",
        "          out = model(batch.x, batch.edge_index)\n",
        "          val_loss += criterion(out[val_mask], labels[val_mask])\n",
        "          val_acc += val_accuracy(out[val_mask].argmax(dim=1),\n",
        "                          labels[val_mask])\n",
        "      model.train() # set the model back to training mode\n",
        "      wandb.log({\n",
        "            \"train_acc\": acc/train_loader_length*100,\n",
        "            \"val_acc\": val_acc/len(data.val_mask)*100,\n",
        "            \"train_loss\": total_loss/train_loader_length,\n",
        "            \"val_loss\":  val_loss/len(val_loader)})\n",
        "      print('-------------------------------')\n",
        "      print(f'Epoch {epoch} | Train Loss: {total_loss/train_loader_length:.3f} '\n",
        "            f'| Train Acc: {acc/train_loader_length*100:>6.2f}% | Val Loss: '\n",
        "            f'{val_loss/len(val_loader):.2f} | Val Acc: '\n",
        "            f'{val_acc/len(data.val_mask)*100:.2f}%')\n",
        "      train_losses.append(total_loss/train_loader_length)\n",
        "      train_accs.append(acc/train_loader_length*100)\n",
        "      val_accs.append(val_acc/len(data.val_mask)*100)\n",
        "      val_losses.append(val_loss/len(val_loader))\n",
        "      # Check if the current model has the best validation accuracy\n",
        "      if val_acc > best_val_acc:\n",
        "          best_val_acc = val_acc\n",
        "          # Save the current best model\n",
        "          torch.save(model.state_dict(), 'best_model.pth')\n",
        "    wandb.finish()\n",
        "    return train_accs,train_losses,val_accs,val_losses\n"
      ],
      "metadata": {
        "id": "Nakzxo-piFaW"
      },
      "execution_count": null,
      "outputs": []
    },
    {
      "cell_type": "code",
      "source": [
        "def train_try(model, data_loader, device):\n",
        "    optimizer = torch.optim.Adam(model.parameters(), lr=0.01, weight_decay=5e-4)\n",
        "    criterion = torch.nn.CrossEntropyLoss()\n",
        "    model.train()\n",
        "    total_loss = 0.0\n",
        "\n",
        "    for batch in data_loader:\n",
        "        batch = batch.to(device)\n",
        "        optimizer.zero_grad()\n",
        "        train_mask,val_mask = get_masks(batch)\n",
        "        output = model(batch.x, batch.edge_index)\n",
        "        # print(output[data.train_mask], output.shape)\n",
        "        print(data.y[train_mask])\n",
        "        print(output[train_mask])\n",
        "        loss = criterion(output[train_mask], data.y[train_mask])\n",
        "        loss.backward()\n",
        "        optimizer.step()\n",
        "        total_loss += loss.item() * data.num_graphs\n",
        "\n",
        "    return total_loss / len(data_loader.dataset)"
      ],
      "metadata": {
        "id": "Arm6C9NmWDVh"
      },
      "execution_count": null,
      "outputs": []
    },
    {
      "cell_type": "code",
      "source": [
        "# class GCN(torch.nn.Module):\n",
        "#     def __init__(self):\n",
        "#         super(GCN, self).__init__()\n",
        "#         self.conv1 = GCNConv(dataset.num_node_features, 128, improved=True)\n",
        "#         self.conv2 = GCNConv(128,64, improved=True)\n",
        "#         self.conv3 = GCNConv(64, dataset.num_classes)\n",
        "#     def forward(self, x, edge_index):\n",
        "#         # x: Node feature matrix\n",
        "#         # edge_index: Graph connectivity matrix\n",
        "#         #x, edge_index = data.x, data.edge_index\n",
        "#         x = self.conv1(x, edge_index)\n",
        "#         x = F.relu(x)\n",
        "#         x = self.conv2(x, edge_index)\n",
        "#         # x = F.dropout(x, training=self.training)\n",
        "#         x = F.relu(x)\n",
        "#         x = self.conv3(x, edge_index)\n",
        "#         return x"
      ],
      "metadata": {
        "id": "Tk562ZsjNE9t"
      },
      "execution_count": null,
      "outputs": []
    },
    {
      "cell_type": "code",
      "source": [
        "class GCN(torch.nn.Module):\n",
        "    def __init__(self):\n",
        "        super(GCN, self).__init__()\n",
        "        self.conv1 = GCNConv(dataset.num_node_features, 256, improved=True)\n",
        "        self.conv2 = GCNConv(256,128, improved=True)\n",
        "        self.conv3 = GCNConv(128,64, improved=True)\n",
        "        self.conv4 = GCNConv(64, dataset.num_classes, improved=True)\n",
        "    def forward(self, x, edge_index):\n",
        "        # x: Node feature matrix\n",
        "        # edge_index: Graph connectivity matrix\n",
        "        #x, edge_index = data.x, data.edge_index\n",
        "        x = self.conv1(x, edge_index)\n",
        "        x = F.relu(x)\n",
        "        x = self.conv2(x, edge_index)\n",
        "        # x = F.dropout(x, training=self.training)\n",
        "        x = F.relu(x)\n",
        "        x = self.conv3(x, edge_index)\n",
        "        x = self.conv4(x, edge_index)\n",
        "        return x"
      ],
      "metadata": {
        "id": "Y1awEmape6-3"
      },
      "execution_count": null,
      "outputs": []
    },
    {
      "cell_type": "code",
      "source": [
        "wandb.init(\n",
        "      # Set the project where this run will be logged\n",
        "      project=\"lab3\",\n",
        "      # We pass a run name (otherwise it’ll be randomly assigned, like sunshine-lollypop-10)\n",
        "      name=f\"GCN_02_4layers_train_only_input_improved_all\",\n",
        "      save_code=True,\n",
        "      # Track hyperparameters and run metadata\n",
        "      config={\n",
        "      \"learning_rate\": 0.001,\n",
        "      \"architecture\": \"GCN\",\n",
        "      \"epochs\": 50,\n",
        "      })"
      ],
      "metadata": {
        "colab": {
          "base_uri": "https://localhost:8080/",
          "height": 123
        },
        "id": "yScA5veQXTF6",
        "outputId": "1f63188b-ee6e-4c7e-de3d-8229f9b8f24a"
      },
      "execution_count": null,
      "outputs": [
        {
          "output_type": "display_data",
          "data": {
            "text/plain": [
              "<IPython.core.display.HTML object>"
            ],
            "text/html": [
              "Tracking run with wandb version 0.15.4"
            ]
          },
          "metadata": {}
        },
        {
          "output_type": "display_data",
          "data": {
            "text/plain": [
              "<IPython.core.display.HTML object>"
            ],
            "text/html": [
              "Run data is saved locally in <code>/content/wandb/run-20230628_125442-vy65j2jx</code>"
            ]
          },
          "metadata": {}
        },
        {
          "output_type": "display_data",
          "data": {
            "text/plain": [
              "<IPython.core.display.HTML object>"
            ],
            "text/html": [
              "Syncing run <strong><a href='https://wandb.ai/whisper_team/lab3/runs/vy65j2jx' target=\"_blank\">GCN_02_4layers_train_only_input_improved_all</a></strong> to <a href='https://wandb.ai/whisper_team/lab3' target=\"_blank\">Weights & Biases</a> (<a href='https://wandb.me/run' target=\"_blank\">docs</a>)<br/>"
            ]
          },
          "metadata": {}
        },
        {
          "output_type": "display_data",
          "data": {
            "text/plain": [
              "<IPython.core.display.HTML object>"
            ],
            "text/html": [
              " View project at <a href='https://wandb.ai/whisper_team/lab3' target=\"_blank\">https://wandb.ai/whisper_team/lab3</a>"
            ]
          },
          "metadata": {}
        },
        {
          "output_type": "display_data",
          "data": {
            "text/plain": [
              "<IPython.core.display.HTML object>"
            ],
            "text/html": [
              " View run at <a href='https://wandb.ai/whisper_team/lab3/runs/vy65j2jx' target=\"_blank\">https://wandb.ai/whisper_team/lab3/runs/vy65j2jx</a>"
            ]
          },
          "metadata": {}
        },
        {
          "output_type": "execute_result",
          "data": {
            "text/html": [
              "<button onClick=\"this.nextSibling.style.display='block';this.style.display='none';\">Display W&B run</button><iframe src='https://wandb.ai/whisper_team/lab3/runs/vy65j2jx?jupyter=true' style='border:none;width:100%;height:420px;display:none;'></iframe>"
            ],
            "text/plain": [
              "<wandb.sdk.wandb_run.Run at 0x7fe4c9f3d4e0>"
            ]
          },
          "metadata": {},
          "execution_count": 27
        }
      ]
    },
    {
      "cell_type": "code",
      "source": [
        "# Create GCN\n",
        "gcn = GCN().to(device)\n",
        "print(gcn)"
      ],
      "metadata": {
        "colab": {
          "base_uri": "https://localhost:8080/"
        },
        "id": "ZW4wsuyWNJic",
        "outputId": "d9393fd2-481f-4fe5-e7f1-7f9508620269"
      },
      "execution_count": null,
      "outputs": [
        {
          "output_type": "stream",
          "name": "stdout",
          "text": [
            "GCN(\n",
            "  (conv1): GCNConv(128, 256)\n",
            "  (conv2): GCNConv(256, 128)\n",
            "  (conv3): GCNConv(128, 64)\n",
            "  (conv4): GCNConv(64, 40)\n",
            ")\n"
          ]
        }
      ]
    },
    {
      "cell_type": "code",
      "source": [
        "os.environ['CUDA_LAUNCH_BLOCKING'] = '1'"
      ],
      "metadata": {
        "id": "ULqF1TfxRvVn"
      },
      "execution_count": null,
      "outputs": []
    },
    {
      "cell_type": "code",
      "source": [
        "train_try(gcn,train_loader,device)"
      ],
      "metadata": {
        "id": "__X2obMfaSIP"
      },
      "execution_count": null,
      "outputs": []
    },
    {
      "cell_type": "code",
      "source": [
        "try_overfit(gcn, data, 200)"
      ],
      "metadata": {
        "id": "IP_4QRtmoECf"
      },
      "execution_count": null,
      "outputs": []
    },
    {
      "cell_type": "code",
      "source": [
        "# Train GCN\n",
        "train_accs,train_losses,val_accs,val_losses = train_gcn(gcn, data, 100, 0.001)"
      ],
      "metadata": {
        "colab": {
          "base_uri": "https://localhost:8080/"
        },
        "id": "79WI1FQ3bnqH",
        "outputId": "95bc6a1b-9f5a-454b-efa0-0cc453194c63"
      },
      "execution_count": null,
      "outputs": [
        {
          "output_type": "stream",
          "name": "stdout",
          "text": [
            "-------------------------------\n",
            "Epoch 0 | Train Loss: 1.789 | Train Acc:  50.49% | Val Loss: 1.70 | Val Acc: 52.58%\n",
            "-------------------------------\n",
            "Epoch 1 | Train Loss: 1.575 | Train Acc:  55.41% | Val Loss: 1.59 | Val Acc: 55.35%\n",
            "-------------------------------\n",
            "Epoch 2 | Train Loss: 1.521 | Train Acc:  56.71% | Val Loss: 1.58 | Val Acc: 54.84%\n",
            "-------------------------------\n",
            "Epoch 3 | Train Loss: 1.489 | Train Acc:  57.41% | Val Loss: 1.54 | Val Acc: 56.55%\n",
            "-------------------------------\n",
            "Epoch 4 | Train Loss: 1.461 | Train Acc:  58.13% | Val Loss: 1.55 | Val Acc: 55.51%\n",
            "-------------------------------\n",
            "Epoch 5 | Train Loss: 1.442 | Train Acc:  58.65% | Val Loss: 1.52 | Val Acc: 56.84%\n",
            "-------------------------------\n",
            "Epoch 6 | Train Loss: 1.423 | Train Acc:  59.24% | Val Loss: 1.54 | Val Acc: 56.03%\n",
            "-------------------------------\n",
            "Epoch 7 | Train Loss: 1.406 | Train Acc:  59.55% | Val Loss: 1.47 | Val Acc: 58.18%\n",
            "-------------------------------\n",
            "Epoch 8 | Train Loss: 1.391 | Train Acc:  59.88% | Val Loss: 1.49 | Val Acc: 57.31%\n",
            "-------------------------------\n",
            "Epoch 9 | Train Loss: 1.376 | Train Acc:  60.43% | Val Loss: 1.48 | Val Acc: 57.98%\n",
            "-------------------------------\n",
            "Epoch 10 | Train Loss: 1.365 | Train Acc:  60.66% | Val Loss: 1.49 | Val Acc: 56.87%\n",
            "-------------------------------\n",
            "Epoch 11 | Train Loss: 1.352 | Train Acc:  60.76% | Val Loss: 1.47 | Val Acc: 57.71%\n",
            "-------------------------------\n",
            "Epoch 12 | Train Loss: 1.347 | Train Acc:  61.02% | Val Loss: 1.46 | Val Acc: 58.20%\n",
            "-------------------------------\n",
            "Epoch 13 | Train Loss: 1.334 | Train Acc:  61.35% | Val Loss: 1.47 | Val Acc: 58.00%\n",
            "-------------------------------\n",
            "Epoch 14 | Train Loss: 1.330 | Train Acc:  61.45% | Val Loss: 1.47 | Val Acc: 57.80%\n",
            "-------------------------------\n",
            "Epoch 15 | Train Loss: 1.319 | Train Acc:  61.71% | Val Loss: 1.47 | Val Acc: 57.88%\n",
            "-------------------------------\n",
            "Epoch 16 | Train Loss: 1.312 | Train Acc:  61.90% | Val Loss: 1.44 | Val Acc: 58.78%\n",
            "-------------------------------\n",
            "Epoch 17 | Train Loss: 1.301 | Train Acc:  62.30% | Val Loss: 1.43 | Val Acc: 58.81%\n",
            "-------------------------------\n",
            "Epoch 18 | Train Loss: 1.299 | Train Acc:  62.39% | Val Loss: 1.45 | Val Acc: 58.09%\n",
            "-------------------------------\n",
            "Epoch 19 | Train Loss: 1.294 | Train Acc:  62.48% | Val Loss: 1.44 | Val Acc: 58.87%\n",
            "-------------------------------\n",
            "Epoch 20 | Train Loss: 1.287 | Train Acc:  62.61% | Val Loss: 1.47 | Val Acc: 57.48%\n",
            "-------------------------------\n",
            "Epoch 21 | Train Loss: 1.281 | Train Acc:  62.72% | Val Loss: 1.45 | Val Acc: 58.25%\n"
          ]
        }
      ]
    },
    {
      "cell_type": "markdown",
      "source": [
        "best run: lr=0.001, train_loader: [Neigbors=[20,50],batch_size=32] <br>\n",
        " GCN(\n",
        "  (conv1): GCNConv(128, 128)\n",
        "  (conv2): GCNConv(128, 64)\n",
        "  (conv3): GCNConv(64, 40)\n",
        ")\n",
        "best_acc 64.24%"
      ],
      "metadata": {
        "id": "E2aOTcK8kf2j"
      }
    },
    {
      "cell_type": "markdown",
      "source": [
        "Second best run: lr=0.0005, train_loader: [10,30],bs=32] <br>\n",
        "best_acc=63.81%"
      ],
      "metadata": {
        "id": "dnkBXIm2xRBA"
      }
    },
    {
      "cell_type": "code",
      "source": [
        "wandb.finish()"
      ],
      "metadata": {
        "colab": {
          "base_uri": "https://localhost:8080/",
          "height": 266
        },
        "id": "8B8I4xHDEWiw",
        "outputId": "cec121f9-9659-41ee-cbd9-f71bfa6a30b6"
      },
      "execution_count": null,
      "outputs": [
        {
          "output_type": "display_data",
          "data": {
            "text/plain": [
              "<IPython.core.display.HTML object>"
            ],
            "text/html": [
              "Waiting for W&B process to finish... <strong style=\"color:green\">(success).</strong>"
            ]
          },
          "metadata": {}
        },
        {
          "output_type": "display_data",
          "data": {
            "text/plain": [
              "<IPython.core.display.HTML object>"
            ],
            "text/html": [
              "<style>\n",
              "    table.wandb td:nth-child(1) { padding: 0 10px; text-align: left ; width: auto;} td:nth-child(2) {text-align: left ; width: 100%}\n",
              "    .wandb-row { display: flex; flex-direction: row; flex-wrap: wrap; justify-content: flex-start; width: 100% }\n",
              "    .wandb-col { display: flex; flex-direction: column; flex-basis: 100%; flex: 1; padding: 10px; }\n",
              "    </style>\n",
              "<div class=\"wandb-row\"><div class=\"wandb-col\"><h3>Run history:</h3><br/><table class=\"wandb\"><tr><td>train_acc</td><td>▁▂▂▃▃▄▅▅▅▆▅▅▆▇▆▇▇▇▇▇▇▇▇▇▇▇██▇▇██████████</td></tr><tr><td>train_loss</td><td>█▇▆▅▅▄▄▄▃▃▃▃▃▂▂▃▂▂▂▂▂▂▂▂▂▁▂▂▁▁▁▁▁▁▁▁▁▁▁▁</td></tr><tr><td>val_acc</td><td>▄▄▃▃▆▅▄▆▄▆▂▄▅▄▄▆▆▄▆▁▅▄▅▇▅▆▅▅▄▅▆▅▆▇▇▅▅██▆</td></tr><tr><td>val_loss</td><td>▅▆▆▇▃▃▄▃▅▃▅▄▃▄▅▃▃▄▂█▄▃▃▁▃▂▄▂▆▃▃▃▃▂▂▃▄▁▁▁</td></tr></table><br/></div><div class=\"wandb-col\"><h3>Run summary:</h3><br/><table class=\"wandb\"><tr><td>train_acc</td><td>60.1475</td></tr><tr><td>train_loss</td><td>1.37335</td></tr><tr><td>val_acc</td><td>57.225</td></tr><tr><td>val_loss</td><td>1.48696</td></tr></table><br/></div></div>"
            ]
          },
          "metadata": {}
        },
        {
          "output_type": "display_data",
          "data": {
            "text/plain": [
              "<IPython.core.display.HTML object>"
            ],
            "text/html": [
              " View run <strong style=\"color:#cdcd00\">GCN_02_4layers_train_only_input_BN</strong> at: <a href='https://wandb.ai/whisper_team/lab3/runs/ur1tub6w' target=\"_blank\">https://wandb.ai/whisper_team/lab3/runs/ur1tub6w</a><br/>Synced 5 W&B file(s), 0 media file(s), 6 artifact file(s) and 1 other file(s)"
            ]
          },
          "metadata": {}
        },
        {
          "output_type": "display_data",
          "data": {
            "text/plain": [
              "<IPython.core.display.HTML object>"
            ],
            "text/html": [
              "Find logs at: <code>./wandb/run-20230628_121347-ur1tub6w/logs</code>"
            ]
          },
          "metadata": {}
        }
      ]
    },
    {
      "cell_type": "code",
      "source": [
        "epochs = range(1, len(train_accs) + 1)\n",
        "\n",
        "plt.plot(epochs, train_accs, label='Train Accuracy')\n",
        "plt.plot(epochs, val_accs, label='Val Accuracy')\n",
        "\n",
        "plt.xlabel('Epochs')\n",
        "plt.ylabel('Accuracy')\n",
        "plt.title('Train and Val Accuracies')\n",
        "plt.legend()\n",
        "\n",
        "plt.show()"
      ],
      "metadata": {
        "colab": {
          "base_uri": "https://localhost:8080/",
          "height": 472
        },
        "id": "HJr5lPSwrhLt",
        "outputId": "76762109-92fa-46e7-bf82-885b1c7b44c5"
      },
      "execution_count": null,
      "outputs": [
        {
          "output_type": "display_data",
          "data": {
            "text/plain": [
              "<Figure size 640x480 with 1 Axes>"
            ],
            "image/png": "[encoded data removed]"
          },
          "metadata": {}
        }
      ]
    },
    {
      "cell_type": "code",
      "source": [
        "train_accs,train_losses,val_accs,val_losses"
      ],
      "metadata": {
        "id": "sP6VNMR4rAT1"
      },
      "execution_count": null,
      "outputs": []
    },
    {
      "cell_type": "code",
      "source": [
        "\n",
        "\n",
        "# Test GCN\n",
        "print(f'\\nGCN test accuracy: {test(gat, data)*100:.2f}%\\n')"
      ],
      "metadata": {
        "id": "njnmPEppNMcr"
      },
      "execution_count": null,
      "outputs": []
    },
    {
      "cell_type": "code",
      "source": [
        "class GAT(torch.nn.Module):\n",
        "    def __init__(self):\n",
        "        super(GAT, self).__init__()\n",
        "        self.hid = 128\n",
        "        self.in_head = 16\n",
        "        self.out_head = 1\n",
        "\n",
        "        self.conv1 = GATConv(dataset.num_features, self.hid, heads=self.in_head, dropout=0.2)\n",
        "        self.conv2 = GATConv(self.hid*self.in_head, dataset.num_classes, concat=False,\n",
        "                             heads=self.out_head, dropout=0.2)\n",
        "        self.fc1 = torch.nn.Linear(1024,256)\n",
        "        self.fc2 = torch.nn.Linear(256,40)\n",
        "\n",
        "    def forward(self,x, edge_index):\n",
        "\n",
        "        # Dropout before the GAT layer is used to avoid overfitting\n",
        "        x = self.conv1(x, edge_index)\n",
        "        x = F.relu(x)\n",
        "        x = self.conv2(x, edge_index)\n",
        "        # x = self.conv2(x, edge_index)\n",
        "        x = self.fc1(x)\n",
        "        x = self.fc2(x)\n",
        "        return x"
      ],
      "metadata": {
        "id": "rnF3O-xOjfMj"
      },
      "execution_count": null,
      "outputs": []
    },
    {
      "cell_type": "code",
      "source": [
        "# Create GAT\n",
        "gat = GAT().to(device)\n",
        "print(gat)\n",
        "\n"
      ],
      "metadata": {
        "colab": {
          "base_uri": "https://localhost:8080/"
        },
        "id": "9WY8CsXbXGgs",
        "outputId": "769e2839-5724-4fe5-9b28-915996300434"
      },
      "execution_count": null,
      "outputs": [
        {
          "output_type": "stream",
          "name": "stdout",
          "text": [
            "GAT(\n",
            "  (conv1): GATConv(129, 128, heads=16)\n",
            "  (conv2): GATConv(2048, 40, heads=1)\n",
            "  (fc1): Linear(in_features=1024, out_features=256, bias=True)\n",
            "  (fc2): Linear(in_features=256, out_features=40, bias=True)\n",
            ")\n"
          ]
        }
      ]
    },
    {
      "cell_type": "code",
      "source": [
        "# Train Graph Attention Network\n",
        "train_accs,train_losses,val_accs,val_losses = train_gcn(gat, data, 50, 0.001)"
      ],
      "metadata": {
        "colab": {
          "base_uri": "https://localhost:8080/",
          "height": 329
        },
        "id": "ayxFC8yotpJ2",
        "outputId": "4f063e4a-f55b-40b8-baac-750b4e75c442"
      },
      "execution_count": null,
      "outputs": [
        {
          "output_type": "error",
          "ename": "TypeError",
          "evalue": "ignored",
          "traceback": [
            "\u001b[0;31m---------------------------------------------------------------------------\u001b[0m",
            "\u001b[0;31mTypeError\u001b[0m                                 Traceback (most recent call last)",
            "\u001b[0;32m<ipython-input-32-8dc6098b41d3>\u001b[0m in \u001b[0;36m<cell line: 2>\u001b[0;34m()\u001b[0m\n\u001b[1;32m      1\u001b[0m \u001b[0;31m# Train Graph Attention Network\u001b[0m\u001b[0;34m\u001b[0m\u001b[0;34m\u001b[0m\u001b[0m\n\u001b[0;32m----> 2\u001b[0;31m \u001b[0mtrain_accs\u001b[0m\u001b[0;34m,\u001b[0m\u001b[0mtrain_losses\u001b[0m\u001b[0;34m,\u001b[0m\u001b[0mval_accs\u001b[0m\u001b[0;34m,\u001b[0m\u001b[0mval_losses\u001b[0m \u001b[0;34m=\u001b[0m \u001b[0mtrain_gcn\u001b[0m\u001b[0;34m(\u001b[0m\u001b[0mgat\u001b[0m\u001b[0;34m,\u001b[0m \u001b[0mdata\u001b[0m\u001b[0;34m,\u001b[0m \u001b[0;36m50\u001b[0m\u001b[0;34m,\u001b[0m \u001b[0;36m0.001\u001b[0m\u001b[0;34m)\u001b[0m\u001b[0;34m\u001b[0m\u001b[0;34m\u001b[0m\u001b[0m\n\u001b[0m",
            "\u001b[0;32m<ipython-input-14-63ddc5edc34d>\u001b[0m in \u001b[0;36mtrain_gcn\u001b[0;34m(model, data, epochs, lr)\u001b[0m\n\u001b[1;32m     21\u001b[0m         \u001b[0mlabels\u001b[0m \u001b[0;34m=\u001b[0m \u001b[0mbatch\u001b[0m\u001b[0;34m.\u001b[0m\u001b[0my\u001b[0m\u001b[0;34m.\u001b[0m\u001b[0mflatten\u001b[0m\u001b[0;34m(\u001b[0m\u001b[0;34m)\u001b[0m\u001b[0;34m\u001b[0m\u001b[0;34m\u001b[0m\u001b[0m\n\u001b[1;32m     22\u001b[0m         \u001b[0mlabels_onehot\u001b[0m \u001b[0;34m=\u001b[0m \u001b[0mF\u001b[0m\u001b[0;34m.\u001b[0m\u001b[0mone_hot\u001b[0m\u001b[0;34m(\u001b[0m\u001b[0mlabels\u001b[0m\u001b[0;34m,\u001b[0m \u001b[0mnum_classes\u001b[0m\u001b[0;34m=\u001b[0m\u001b[0;36m40\u001b[0m\u001b[0;34m)\u001b[0m\u001b[0;34m.\u001b[0m\u001b[0mfloat\u001b[0m\u001b[0;34m(\u001b[0m\u001b[0;34m)\u001b[0m\u001b[0;34m\u001b[0m\u001b[0;34m\u001b[0m\u001b[0m\n\u001b[0;32m---> 23\u001b[0;31m         \u001b[0mout\u001b[0m \u001b[0;34m=\u001b[0m \u001b[0mmodel\u001b[0m\u001b[0;34m(\u001b[0m\u001b[0mbatch\u001b[0m\u001b[0;34m.\u001b[0m\u001b[0mx\u001b[0m\u001b[0;34m,\u001b[0m \u001b[0mbatch\u001b[0m\u001b[0;34m.\u001b[0m\u001b[0medge_index\u001b[0m\u001b[0;34m)\u001b[0m\u001b[0;34m\u001b[0m\u001b[0;34m\u001b[0m\u001b[0m\n\u001b[0m\u001b[1;32m     24\u001b[0m         \u001b[0;31m# print(batch.train_mask, )\u001b[0m\u001b[0;34m\u001b[0m\u001b[0;34m\u001b[0m\u001b[0m\n\u001b[1;32m     25\u001b[0m         \u001b[0;31m# print(out[train_mask], out[train_mask].shape)\u001b[0m\u001b[0;34m\u001b[0m\u001b[0;34m\u001b[0m\u001b[0m\n",
            "\u001b[0;32m/usr/local/lib/python3.10/dist-packages/torch/nn/modules/module.py\u001b[0m in \u001b[0;36m_call_impl\u001b[0;34m(self, *args, **kwargs)\u001b[0m\n\u001b[1;32m   1499\u001b[0m                 \u001b[0;32mor\u001b[0m \u001b[0m_global_backward_pre_hooks\u001b[0m \u001b[0;32mor\u001b[0m \u001b[0m_global_backward_hooks\u001b[0m\u001b[0;34m\u001b[0m\u001b[0;34m\u001b[0m\u001b[0m\n\u001b[1;32m   1500\u001b[0m                 or _global_forward_hooks or _global_forward_pre_hooks):\n\u001b[0;32m-> 1501\u001b[0;31m             \u001b[0;32mreturn\u001b[0m \u001b[0mforward_call\u001b[0m\u001b[0;34m(\u001b[0m\u001b[0;34m*\u001b[0m\u001b[0margs\u001b[0m\u001b[0;34m,\u001b[0m \u001b[0;34m**\u001b[0m\u001b[0mkwargs\u001b[0m\u001b[0;34m)\u001b[0m\u001b[0;34m\u001b[0m\u001b[0;34m\u001b[0m\u001b[0m\n\u001b[0m\u001b[1;32m   1502\u001b[0m         \u001b[0;31m# Do not call functions when jit is used\u001b[0m\u001b[0;34m\u001b[0m\u001b[0;34m\u001b[0m\u001b[0m\n\u001b[1;32m   1503\u001b[0m         \u001b[0mfull_backward_hooks\u001b[0m\u001b[0;34m,\u001b[0m \u001b[0mnon_full_backward_hooks\u001b[0m \u001b[0;34m=\u001b[0m \u001b[0;34m[\u001b[0m\u001b[0;34m]\u001b[0m\u001b[0;34m,\u001b[0m \u001b[0;34m[\u001b[0m\u001b[0;34m]\u001b[0m\u001b[0;34m\u001b[0m\u001b[0;34m\u001b[0m\u001b[0m\n",
            "\u001b[0;31mTypeError\u001b[0m: GAT.forward() missing 1 required positional argument: 'year'"
          ]
        }
      ]
    },
    {
      "cell_type": "code",
      "source": [
        "try_overfit(gat,data,200)"
      ],
      "metadata": {
        "id": "aYZZtb4ytKYW"
      },
      "execution_count": null,
      "outputs": []
    },
    {
      "cell_type": "code",
      "source": [
        "# def train_no_batches(model, data, epochs):\n",
        "#     criterion = torch.nn.CrossEntropyLoss()\n",
        "#     optimizer = model.optimizer\n",
        "\n",
        "#     model.train()\n",
        "#     for epoch in range(epochs+1):\n",
        "#         total_loss = 0\n",
        "#         acc = 0\n",
        "#         val_loss = 0\n",
        "#         val_acc = 0\n",
        "\n",
        "#         optimizer.zero_grad()\n",
        "#          # Convert labels to one-hot vectors\n",
        "#         labels_onehot = F.one_hot(data.y.flatten(), num_classes=40).float()\n",
        "\n",
        "#         # Forward pass\n",
        "#         _, out = model(data.x, data.edge_index)\n",
        "#         # print(out.shape, out[0])\n",
        "\n",
        "#         loss = criterion(out[data.train_mask], labels_onehot[data.train_mask])\n",
        "#         total_loss += loss.item()\n",
        "#         acc += accuracy(out[data.train_mask].argmax(dim=1), data.y[data.train_mask])\n",
        "\n",
        "#         # Backward pass\n",
        "#         loss.backward()\n",
        "#         optimizer.step()\n",
        "\n",
        "#         # Validation\n",
        "#         with torch.no_grad():\n",
        "#             _, val_out = model(data.x, data.edge_index)\n",
        "#             val_loss += criterion(val_out[data.val_mask], data.y[data.val_mask])\n",
        "#             val_acc += accuracy(val_out[data.val_mask].argmax(dim=1), data.y[data.val_mask])\n",
        "\n",
        "#         # Print metrics every 10 epochs\n",
        "#         if epoch % 10 == 0:\n",
        "#             print(f'Epoch {epoch:>3} | Train Loss: {total_loss:.3f} '\n",
        "#                   f'| Train Acc: {acc * 100:.2f}% | Val Loss: {val_loss:.2f} '\n",
        "#                   f'| Val Acc: {val_acc * 100:.2f}%')\n"
      ],
      "metadata": {
        "id": "5V40f-r4TZMX"
      },
      "execution_count": null,
      "outputs": []
    },
    {
      "cell_type": "markdown",
      "source": [
        "####TODO: try to load with all neighbors. in predict.py load and predict only for the input nodes, not for the neighbors."
      ],
      "metadata": {
        "id": "QkR8JFNELzCn"
      }
    },
    {
      "cell_type": "code",
      "source": [],
      "metadata": {
        "id": "u1IfpWuNL-Ay"
      },
      "execution_count": null,
      "outputs": []
    }
  ]
}